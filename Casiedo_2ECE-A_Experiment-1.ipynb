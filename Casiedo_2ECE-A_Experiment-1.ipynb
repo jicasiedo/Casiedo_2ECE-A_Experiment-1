{
 "cells": [
  {
   "cell_type": "markdown",
   "id": "bde5f1b3-a376-4d17-a700-439b2da52374",
   "metadata": {},
   "source": [
    "# EXPERIMENT 1 - Introduction to Python Programming\n",
    "# Casiedo, Jihan Harvey C.\n",
    "# 2ECE-A"
   ]
  },
  {
   "cell_type": "markdown",
   "id": "2b13b48d-1dac-4489-875c-061d220ec04f",
   "metadata": {},
   "source": [
    "# Problem 1: Alphabet Soup Problem"
   ]
  },
  {
   "cell_type": "code",
   "execution_count": 7,
   "id": "10f61184-7902-4f5f-ac1b-11e3b5e27b06",
   "metadata": {},
   "outputs": [
    {
     "name": "stdin",
     "output_type": "stream",
     "text": [
      "Enter the word you want to alphabetize:  jihan\n"
     ]
    },
    {
     "data": {
      "text/plain": [
       "'ahijn'"
      ]
     },
     "execution_count": 7,
     "metadata": {},
     "output_type": "execute_result"
    }
   ],
   "source": [
    "def alphabet_soup(word): #create the function\n",
    "    word = sorted(word) #sort the word in alphabetical order\n",
    "    alphabetized = \"\".join(word) #Combines the list of values in the array\n",
    "    return alphabetized\n",
    "    \n",
    "word = input(\"Enter the word you want to alphabetize: \")\n",
    "alphabet_soup(word)"
   ]
  },
  {
   "cell_type": "markdown",
   "id": "ee03ec0c-e2ba-48da-827e-180b47c05519",
   "metadata": {},
   "source": [
    "# Problem 2: Emoticon Problem"
   ]
  },
  {
   "cell_type": "code",
   "execution_count": 9,
   "id": "e1a94a09-bbd4-49f6-bc27-1e88b013b86b",
   "metadata": {},
   "outputs": [
    {
     "name": "stdin",
     "output_type": "stream",
     "text": [
      "How do you feel today: I am very sad\n"
     ]
    },
    {
     "name": "stdout",
     "output_type": "stream",
     "text": [
      "I am very :((\n"
     ]
    }
   ],
   "source": [
    "def emotify(feelings): #create the function\n",
    "\n",
    "    feelings = feelings.replace(\"smile\", \":)\") #set the conditions\n",
    "    feelings = feelings.replace(\"grin\", \":D\")\n",
    "    feelings = feelings.replace(\"sad\", \":((\")\n",
    "    feelings = feelings.replace(\"mad\", \">:(\")\n",
    "    return feelings\n",
    "\n",
    "feelings = input(\"How do you feel today:\")\n",
    "print (emotify(feelings))"
   ]
  },
  {
   "cell_type": "markdown",
   "id": "10ec6468-7f2f-4ffb-818b-60cb208986fe",
   "metadata": {},
   "source": [
    "# Problem 3: Unpacking List Problem"
   ]
  },
  {
   "cell_type": "code",
   "execution_count": 11,
   "id": "591266ee-1862-4d0c-946d-583276286e5e",
   "metadata": {},
   "outputs": [
    {
     "name": "stdout",
     "output_type": "stream",
     "text": [
      "The 1st variable of mylist: 1  The variables in the middle of mylist: [2, 3, 4, 5]  The last variable of mylist: 6\n"
     ]
    }
   ],
   "source": [
    "mylist = [1,2,3,4,5,6] #create a list\n",
    "\n",
    "first = mylist[0] \n",
    "middle = mylist[1:-1]\n",
    "last = mylist[-1]\n",
    "\n",
    "#display the values of the first, middle, and last variables\n",
    "print(\"The 1st variable of mylist: \" + str(first), \" The variables in the middle of mylist: \" + str(middle), \" The last variable of mylist: \" + str(last))"
   ]
  }
 ],
 "metadata": {
  "kernelspec": {
   "display_name": "Python 3 (ipykernel)",
   "language": "python",
   "name": "python3"
  },
  "language_info": {
   "codemirror_mode": {
    "name": "ipython",
    "version": 3
   },
   "file_extension": ".py",
   "mimetype": "text/x-python",
   "name": "python",
   "nbconvert_exporter": "python",
   "pygments_lexer": "ipython3",
   "version": "3.12.4"
  }
 },
 "nbformat": 4,
 "nbformat_minor": 5
}
