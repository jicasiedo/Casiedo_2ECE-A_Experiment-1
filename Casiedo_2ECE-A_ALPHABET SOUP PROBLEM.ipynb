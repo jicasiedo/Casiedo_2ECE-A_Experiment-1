{
 "cells": [
  {
   "cell_type": "markdown",
   "id": "05491ab0-8d91-4fe0-9e80-09ec4c2be8f4",
   "metadata": {},
   "source": [
    "# EXPERIMENT 1 - Introduction to Python Programming\n",
    "# Casiedo, Jihan Harvey C.\n",
    "# 2ECE-A"
   ]
  },
  {
   "cell_type": "code",
   "execution_count": 9,
   "id": "a1570f8e-129f-4aab-8731-1974e4bbab13",
   "metadata": {},
   "outputs": [
    {
     "name": "stdin",
     "output_type": "stream",
     "text": [
      "Enter the word you want to alphabetize:  casiedo\n"
     ]
    },
    {
     "data": {
      "text/plain": [
       "'acdeios'"
      ]
     },
     "execution_count": 9,
     "metadata": {},
     "output_type": "execute_result"
    }
   ],
   "source": [
    "def alphabet_soup(word): #create the function\n",
    "    word = sorted(word) #sort the word in alphabetical order\n",
    "    alphabetized = \"\".join(word) #Combines the list of values in the array\n",
    "    return alphabetized\n",
    "    \n",
    "word = input(\"Enter the word you want to alphabetize: \")\n",
    "alphabet_soup(word)"
   ]
  },
  {
   "cell_type": "code",
   "execution_count": null,
   "id": "6ccbb488-c144-4a5c-bbef-d102d7bb25cb",
   "metadata": {},
   "outputs": [],
   "source": []
  }
 ],
 "metadata": {
  "kernelspec": {
   "display_name": "Python 3 (ipykernel)",
   "language": "python",
   "name": "python3"
  },
  "language_info": {
   "codemirror_mode": {
    "name": "ipython",
    "version": 3
   },
   "file_extension": ".py",
   "mimetype": "text/x-python",
   "name": "python",
   "nbconvert_exporter": "python",
   "pygments_lexer": "ipython3",
   "version": "3.12.4"
  }
 },
 "nbformat": 4,
 "nbformat_minor": 5
}
