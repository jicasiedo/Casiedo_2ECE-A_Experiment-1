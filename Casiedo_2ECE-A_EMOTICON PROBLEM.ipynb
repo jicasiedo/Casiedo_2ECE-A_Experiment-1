{
 "cells": [
  {
   "cell_type": "code",
   "execution_count": null,
   "id": "ba3e1998-cd06-4677-ae16-05d4b0263555",
   "metadata": {},
   "outputs": [],
   "source": [
    "# EXPERIMENT 1 - Introduction to Python Programming\n",
    "# Casiedo, Jihan Harvey C.\n",
    "# 2ECE-A\n",
    "\n",
    "# Problem 2: Emoticom Problem"
   ]
  },
  {
   "cell_type": "code",
   "execution_count": 3,
   "id": "786986ad-7cf6-4bd4-b41f-bf5b47804f23",
   "metadata": {},
   "outputs": [
    {
     "name": "stdin",
     "output_type": "stream",
     "text": [
      "Enter what you feel right now: i am sad\n"
     ]
    },
    {
     "name": "stdout",
     "output_type": "stream",
     "text": [
      "i am :((\n"
     ]
    }
   ],
   "source": [
    "def emotify(feelings): #create the function\n",
    "\n",
    "    feelings = feelings.replace(\"smile\", \":)\")\n",
    "    feelings = feelings.replace(\"grin\", \":D\")\n",
    "    feelings = feelings.replace(\"sad\", \":((\")\n",
    "    feelings = feelings.replace(\"mad\", \">:(\")\n",
    "    return feelings\n",
    "\n",
    "feelings = input(\"How do you feel today:\")\n",
    "print (emotify(feelings))"
   ]
  },
  {
   "cell_type": "code",
   "execution_count": null,
   "id": "9d1c0aee-5535-4da9-bf0e-3d87b3cbcd3b",
   "metadata": {},
   "outputs": [],
   "source": []
  }
 ],
 "metadata": {
  "kernelspec": {
   "display_name": "Python 3 (ipykernel)",
   "language": "python",
   "name": "python3"
  },
  "language_info": {
   "codemirror_mode": {
    "name": "ipython",
    "version": 3
   },
   "file_extension": ".py",
   "mimetype": "text/x-python",
   "name": "python",
   "nbconvert_exporter": "python",
   "pygments_lexer": "ipython3",
   "version": "3.12.4"
  }
 },
 "nbformat": 4,
 "nbformat_minor": 5
}
